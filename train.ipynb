{
 "cells": [
  {
   "cell_type": "markdown",
   "metadata": {},
   "source": [
    "### Lettuce Disease Detection "
   ]
  },
  {
   "cell_type": "code",
   "execution_count": null,
   "metadata": {},
   "outputs": [],
   "source": [
    "from ultralytics import YOLO\n",
    "\n",
    "# Load model\n",
    "model = YOLO(\"yolo11n.pt\")\n",
    "\n",
    "# Train the model\n",
    "history = model.train(\n",
    "    data=\"C:/Users/Md. Siam/Desktop/Yolo11/lettuce_disease_detection/dataset_lettuce_disease/data.yaml\",\n",
    "    epochs=30,\n",
    "    imgsz=640,\n",
    "    device=0,\n",
    "    batch=8,\n",
    "    val=True \n",
    ")"
   ]
  },
  {
   "cell_type": "markdown",
   "metadata": {},
   "source": [
    "### Further Training "
   ]
  },
  {
   "cell_type": "code",
   "execution_count": null,
   "metadata": {},
   "outputs": [],
   "source": [
    "from ultralytics import YOLO\n",
    "\n",
    "# Load model\n",
    "model = YOLO(\"C:/Users/Md. Siam/Desktop/Yolo11/lettuce_disease_detection/runs/detect/train/weights/best.pt\")"
   ]
  },
  {
   "cell_type": "code",
   "execution_count": null,
   "metadata": {},
   "outputs": [],
   "source": [
    "# Train the model with additional parameters for better logging and validation\n",
    "history = model.train(\n",
    "    data=\"C:/Users/Md. Siam/Desktop/Yolo11/lettuce_disease_detection/dataset_lettuce_disease/data.yaml\",\n",
    "    epochs=20,\n",
    "    imgsz=640,\n",
    "    device=0,\n",
    "    batch=8,\n",
    "    val=True\n",
    ")"
   ]
  },
  {
   "cell_type": "markdown",
   "metadata": {},
   "source": [
    "### Disease Detection of a single image"
   ]
  },
  {
   "cell_type": "code",
   "execution_count": null,
   "metadata": {},
   "outputs": [],
   "source": [
    "from ultralytics import YOLO\n",
    "\n",
    "# Load model\n",
    "model = YOLO(\"C:/Users/Md. Siam/Desktop/Yolo11/lettuce_disease_detection/runs/detect/train/weights/best.pt\")\n",
    "\n",
    "# Test the model\n",
    "results = model('C:/Users/Md. Siam/Desktop/Yolo11/lettuce_disease_detection/0.jpg')\n",
    "\n",
    "# Display results\n",
    "results[0].show()"
   ]
  },
  {
   "cell_type": "markdown",
   "metadata": {},
   "source": [
    "### Disease Detection of a batch of image"
   ]
  },
  {
   "cell_type": "code",
   "execution_count": null,
   "metadata": {},
   "outputs": [],
   "source": [
    "from ultralytics import YOLO\n",
    "\n",
    "# Load model\n",
    "model = YOLO(\"C:/Users/Md. Siam/Desktop/Yolo11/lettuce_disease_detection/runs/detect/train/weights/best.pt\")\n",
    "\n",
    "# Test the model\n",
    "results = model('C:/Users/Md. Siam/Desktop/Yolo11/lettuce_disease_detection/dataset_lettuce_disease/test/images', save = True,)\n",
    "\n",
    "# Display results\n",
    "results[0].show()"
   ]
  }
 ],
 "metadata": {
  "kernelspec": {
   "display_name": ".venv",
   "language": "python",
   "name": "python3"
  },
  "language_info": {
   "codemirror_mode": {
    "name": "ipython",
    "version": 3
   },
   "file_extension": ".py",
   "mimetype": "text/x-python",
   "name": "python",
   "nbconvert_exporter": "python",
   "pygments_lexer": "ipython3",
   "version": "3.12.3"
  }
 },
 "nbformat": 4,
 "nbformat_minor": 2
}
